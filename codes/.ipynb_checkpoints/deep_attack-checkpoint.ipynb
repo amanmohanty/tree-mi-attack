{
 "cells": [
  {
   "cell_type": "code",
   "execution_count": 1,
   "metadata": {},
   "outputs": [],
   "source": [
    "# The basics\n",
    "import numpy as np\n",
    "import pandas as pd\n",
    "\n",
    "# Import Sklearn model libraries\n",
    "from sklearn.model_selection import train_test_split, GridSearchCV\n",
    "from sklearn.ensemble import RandomForestClassifier\n",
    "from sklearn.metrics import accuracy_score, classification_report, confusion_matrix, f1_score, precision_score, recall_score, precision_recall_curve\n",
    "from sklearn.preprocessing import MinMaxScaler\n",
    "from sklearn.decomposition import PCA\n",
    "\n",
    "# Import Plotting libraries\n",
    "from matplotlib import pyplot as plt\n",
    "import seaborn as sns\n",
    "\n",
    "# Import Utility libraries\n",
    "import shap\n",
    "from collections import Counter\n",
    "import pickle\n",
    "from tqdm import tqdm_notebook\n",
    "import warnings\n",
    "import ipyparallel as ipp\n",
    "import time\n",
    "import os\n",
    "import torch as torch\n",
    "from torch import nn\n",
    "import torch.optim as optim\n",
    "from termcolor import colored\n",
    "\n",
    "# Pre-run necessities\n",
    "warnings.filterwarnings('ignore')\n",
    "rs = [6,26,42,94,100,420,500,670]"
   ]
  },
  {
   "cell_type": "code",
   "execution_count": 2,
   "metadata": {},
   "outputs": [],
   "source": [
    "# write_data\n",
    "\n",
    "def write_into_files(to_store,run,dataset_name,influence_type,ref_tuning):\n",
    "    print(\"\\n######### Writing into file #########\")\n",
    "    if ref_tuning:\n",
    "        parent_dir = '/home/amanmoha/influence_attack/results/actual/DN/modules_ref_tuning/'\n",
    "    else:\n",
    "        parent_dir = '/home/amanmoha/influence_attack/results/actual/DN/modules/'\n",
    "    while True:\n",
    "        try: \n",
    "            directory = 'run'+run+'/'+dataset_name+'/'+influence_type\n",
    "            path = os.path.join(parent_dir,directory)\n",
    "            os.mkdir(path)\n",
    "            break\n",
    "        except FileNotFoundError:\n",
    "            try: \n",
    "                directory = 'run'+run+'/'+dataset_name\n",
    "                path = os.path.join(parent_dir,directory)\n",
    "                os.mkdir(path)\n",
    "                continue\n",
    "            except FileNotFoundError:\n",
    "                directory = 'run'+run\n",
    "                path = os.path.join(parent_dir,directory)\n",
    "                os.mkdir(path)\n",
    "                continue\n",
    "\n",
    "    with open(path+'/data.txt','wb') as f:\n",
    "        pickle.dump(to_store, f)\n",
    "    f.close()\n",
    "\n",
    "    with open(path+'/metrics.txt','w') as f:\n",
    "        f.write(\"Target train accuracy:\\t {a}\\nTarget test accuracy:\\t {b}\\nAttack accuracy:\\t {c}\\nAttack precision:\\t {d}\\nAttack recall:\\t\\t {e}\\nAttack f1:\\t\\t {f}\\nBaseline accuracy:\\t {g}\\nBaseline precision:\\t {h}\\nBaseline recall:\\t {i}\\nBaseline f1:\\t\\t {j}\\n\".format(a=tr_ac/n_states,b=te_ac/n_states,c=ac/n_states,d=ps/n_states,e=rs/n_states,f=fs/n_states,g=ac_b/n_states,h=ps_b/n_states,i=rs_b/n_states,j=fs_b/n_states))\n",
    "    f.close()\n",
    "    print(\"\\nWrite complete\")"
   ]
  },
  {
   "cell_type": "code",
   "execution_count": 3,
   "metadata": {},
   "outputs": [],
   "source": [
    "class deep_attack():\n",
    "    \n",
    "    def __init__(self,lr,weight_decay,test_size,n_epochs,rs):\n",
    "        self.lr = lr\n",
    "        self.weight_decay = weight_decay\n",
    "        self.test_size = test_size\n",
    "        self.n_epochs = n_epochs\n",
    "        \n",
    "        self.train_accuracy = []\n",
    "        self.train_precision = []\n",
    "        self.train_recall = []\n",
    "        self.target_accuracy = []\n",
    "        self.target_recall = []\n",
    "        self.target_precision = []\n",
    "        \n",
    "        self.loss_train = np.zeros(n_epochs)\n",
    "        self.acc_train = np.zeros(n_epochs)\n",
    "        self.loss_test = np.zeros(n_epochs)\n",
    "        self.acc_test = np.zeros(n_epochs)\n",
    "        self.rs = rs\n",
    "        \n",
    "    def fit(self,x,y):\n",
    "        self.n_states = x.shape[0]\n",
    "        self.n_feat = x.shape[2]\n",
    "        self.n_hidden = self.n_feat*2\n",
    "\n",
    "        for i in tqdm_notebook(range(self.n_states),desc='Fit:'):\n",
    "\n",
    "            x_train, x_test, y_train, y_test = train_test_split(x[i],y[i],test_size=0.2,random_state=self.rs)\n",
    "            x_train_torch,x_test_torch,y_train_torch,y_test_torch = torch.Tensor(x_train),torch.Tensor(x_test),torch.Tensor(y_train),torch.Tensor(y_test)\n",
    "\n",
    "            # Model Definition\n",
    "            self.model = nn.Sequential(nn.Linear(self.n_feat,self.n_hidden),\n",
    "                                  nn.ReLU(),\n",
    "                                  nn.Linear(self.n_hidden,2))\n",
    "            criterion = nn.CrossEntropyLoss()\n",
    "            optimizer = optim.Adam(self.model.parameters(),lr=self.lr,weight_decay=self.weight_decay)\n",
    "            \n",
    "            # Runs\n",
    "            for epoch in range(self.n_epochs):\n",
    "\n",
    "                # Initialize\n",
    "                optimizer.zero_grad()\n",
    "                \n",
    "                # Train data through model\n",
    "                out_train = self.model(x_train_torch)\n",
    "                pred_prob_train = nn.functional.softmax(out_train)\n",
    "                pred_train = torch.argmax(pred_prob_train,axis=1)\n",
    "                y_train_torch = y_train_torch.long()\n",
    "                loss_train = criterion(pred_prob_train,y_train_torch)\n",
    "                \n",
    "                # Train data through model\n",
    "                out_test = self.model(x_test_torch)\n",
    "                pred_prob_test = nn.functional.softmax(out_test)\n",
    "                pred_test = torch.argmax(pred_prob_test,axis=1)\n",
    "                y_test_torch = y_test_torch.long()\n",
    "                loss_test = criterion(pred_prob_test,y_test_torch)\n",
    "                \n",
    "                # Learning\n",
    "                loss_train.backward()\n",
    "                optimizer.step()\n",
    "\n",
    "                # Record metrics\n",
    "                self.loss_train[epoch]+=loss_train\n",
    "                self.acc_train[epoch]+=accuracy_score(y_train_torch,pred_train)\n",
    "                self.loss_test[epoch]+=loss_test\n",
    "                self.acc_test[epoch]+=accuracy_score(y_test_torch,pred_test)\n",
    "                \n",
    "            self.train_accuracy.append(accuracy_score(y_train_torch,pred_train))\n",
    "            self.train_precision.append(precision_score(y_train_torch,pred_train))\n",
    "            self.train_recall.append(recall_score(y_train_torch,pred_train))\n",
    "                \n",
    "    def predict(self,x,y):\n",
    "        \n",
    "        for i in tqdm_notebook(range(self.n_states),desc='Predict:'):\n",
    "            x_torch,y_torch = torch.Tensor(x[i]),torch.Tensor(y[i])\n",
    "            output = self.model(x_torch)\n",
    "            pred_prob = nn.functional.softmax(output)\n",
    "            pred = torch.argmax(pred_prob,axis=1)\n",
    "\n",
    "            self.target_accuracy.append(accuracy_score(y_torch,pred))\n",
    "            self.target_precision.append(precision_score(y_torch,pred))\n",
    "            self.target_recall.append(recall_score(y_torch,pred))\n",
    "            \n",
    "    def get_results(self):\n",
    "        if len(self.target_accuracy) == 0:\n",
    "            return self.loss_train/self.n_states,self.acc_train/self.n_states,self.loss_test/self.n_states,self.acc_test/self.n_states,np.mean(self.train_accuracy),np.mean(self.train_precision),np.mean(self.train_recall)\n",
    "        else:\n",
    "            return self.loss_train/self.n_states,self.acc_train/self.n_states,self.loss_test/self.n_states,self.acc_test/self.n_states,np.mean(self.train_accuracy),np.mean(self.train_precision),np.mean(self.train_recall),np.mean(self.target_accuracy),np.mean(self.target_precision),np.mean(self.target_recall)\n",
    "\n"
   ]
  },
  {
   "cell_type": "code",
   "execution_count": 4,
   "metadata": {},
   "outputs": [],
   "source": [
    "def read_file(run,dataset_name,influence_type,at_type):\n",
    "    if influence_type == 'append':\n",
    "        influence_types = ['SHAP','DP_impurity','DP_importance']\n",
    "    else:\n",
    "        influence_types = [influence_type]\n",
    "        \n",
    "    for influence_type in influence_types:\n",
    "        if at_type == '1':\n",
    "            parent_dir = '/home/nnadgaud/whitebox_adult_income/influence_attack/results/actual/GB/modules/'\n",
    "        elif at_type == '2':\n",
    "            parent_dir = '/home/nnadgaud/whitebox_adult_income/influence_attack/results/actual/GB/modules_ref_tuning/'\n",
    "\n",
    "        directory = 'run'+run+'/'+dataset_name+'/'+influence_type\n",
    "        path = os.path.join(parent_dir,directory)\n",
    "\n",
    "        with open(path+'/data.txt','rb') as f:\n",
    "            data = pickle.load(f)\n",
    "        f.close()\n",
    "        \n",
    "        tar_val_,tar_lab_,ref_val_,ref_lab_,true_labels_ = data[0],data[1],data[2],data[3],data[4]\n",
    "        try:\n",
    "            tar_val = np.concatenate((tar_val,tar_val_),axis=-1)\n",
    "            ref_val = np.concatenate((ref_val,ref_val_),axis=-1)\n",
    "        except NameError:\n",
    "            tar_val,tar_lab,ref_val,ref_lab,true_labels = tar_val_,tar_lab_,ref_val_,ref_lab_,true_labels_\n",
    "\n",
    "    return tar_val,tar_lab,ref_val,ref_lab,true_labels\n"
   ]
  },
  {
   "cell_type": "code",
   "execution_count": 5,
   "metadata": {},
   "outputs": [],
   "source": [
    "def plots(loss_test,loss_train,acc_test,acc_train):\n",
    "    plt.figure(1,figsize = (10,6))\n",
    "    plt.plot(range(len(loss_test)),loss_test,label='test')\n",
    "    plt.plot(range(len(loss_train)),loss_train,label='train')\n",
    "    plt.xlabel(\"Epochs\")\n",
    "    plt.ylabel(\"Loss\")\n",
    "    plt.legend()\n",
    "    \n",
    "    plt.figure(2,figsize = (10,6))\n",
    "    plt.plot(range(len(acc_test)),acc_test,label='test')\n",
    "    plt.plot(range(len(acc_train)),acc_train,label='train')\n",
    "    plt.xlabel(\"Epochs\")\n",
    "    plt.ylabel(\"Accuracy\")\n",
    "    plt.legend()\n",
    "    \n",
    "    plt.show()"
   ]
  },
  {
   "cell_type": "code",
   "execution_count": 22,
   "metadata": {},
   "outputs": [
    {
     "data": {
      "application/vnd.jupyter.widget-view+json": {
       "model_id": "c1d1d1e36c6042a7be41f7f6c6130c22",
       "version_major": 2,
       "version_minor": 0
      },
      "text/plain": [
       "HBox(children=(IntProgress(value=0, description='Fit:', max=30, style=ProgressStyle(description_width='initial…"
      ]
     },
     "metadata": {},
     "output_type": "display_data"
    },
    {
     "name": "stdout",
     "output_type": "stream",
     "text": [
      "\n"
     ]
    },
    {
     "data": {
      "application/vnd.jupyter.widget-view+json": {
       "model_id": "d40f51927c4d43758907fd401d76b39d",
       "version_major": 2,
       "version_minor": 0
      },
      "text/plain": [
       "HBox(children=(IntProgress(value=0, description='Predict:', max=30, style=ProgressStyle(description_width='ini…"
      ]
     },
     "metadata": {},
     "output_type": "display_data"
    },
    {
     "name": "stdout",
     "output_type": "stream",
     "text": [
      "\n",
      "\u001b[34m############ Results ############\u001b[0m\n",
      "Train Accuracy:  0.6482916666666667\n",
      "Train Precision:  0.6355888061971208\n",
      "Train Recall:  0.6822882565264837\n",
      "Target Accuracy:  0.6158666666666667\n",
      "Target Precision:  0.5997206475933385\n",
      "Target Recall:  0.6785333333333333\n",
      "\n",
      "\n"
     ]
    },
    {
     "data": {
      "image/png": "[encoded data removed]",
      "text/plain": [
       "<Figure size 720x432 with 1 Axes>"
      ]
     },
     "metadata": {
      "needs_background": "light"
     },
     "output_type": "display_data"
    },
    {
     "data": {
      "image/png": "[encoded data removed]",
      "text/plain": [
       "<Figure size 720x432 with 1 Axes>"
      ]
     },
     "metadata": {
      "needs_background": "light"
     },
     "output_type": "display_data"
    }
   ],
   "source": [
    "run = '1'\n",
    "at_type = '2'\n",
    "dataset_name = 'german_credit'\n",
    "influence_type = 'append'\n",
    "tar_val,tar_lab,ref_val,ref_lab,true_labels = read_file(run,dataset_name,influence_type,at_type)\n",
    "params = {'learningRate':0.01,\n",
    "          'weightDecay':0.00005,\n",
    "          'testSize':0.2,\n",
    "          'nEpochs':100,\n",
    "          'randomState':rs[0]}\n",
    "\n",
    "attack_obj = deep_attack(lr=params['learningRate'],\n",
    "                         weight_decay=params['weightDecay'],\n",
    "                         test_size=params['testSize'],\n",
    "                         n_epochs=params['nEpochs'],\n",
    "                         rs=params['randomState'])\n",
    "\n",
    "attack_obj.fit(ref_val,ref_lab)\n",
    "attack_obj.predict(tar_val,tar_lab)\n",
    "loss_train,acc_train,loss_test,acc_test,train_accuracy,train_precision,train_recall,target_accuracy,target_precision,target_recall = attack_obj.get_results()\n",
    "\n",
    "print(colored(\"############ Results ############\",'blue'))\n",
    "print(\"Train Accuracy: \",train_accuracy)\n",
    "print(\"Train Precision: \",train_precision)\n",
    "print(\"Train Recall: \",train_recall)\n",
    "print(\"Target Accuracy: \",target_accuracy)\n",
    "print(\"Target Precision: \",target_precision)\n",
    "print(\"Target Recall: \",target_recall)\n",
    "print(\"\\n\")\n",
    "\n",
    "plots(loss_test,loss_train,acc_test,acc_train)"
   ]
  },
  {
   "cell_type": "code",
   "execution_count": null,
   "metadata": {},
   "outputs": [],
   "source": []
  }
 ],
 "metadata": {
  "kernelspec": {
   "display_name": "Python 3",
   "language": "python",
   "name": "python3"
  },
  "language_info": {
   "codemirror_mode": {
    "name": "ipython",
    "version": 3
   },
   "file_extension": ".py",
   "mimetype": "text/x-python",
   "name": "python",
   "nbconvert_exporter": "python",
   "pygments_lexer": "ipython3",
   "version": "3.6.9"
  }
 },
 "nbformat": 4,
 "nbformat_minor": 4
}
